{
 "cells": [
  {
   "cell_type": "markdown",
   "metadata": {},
   "source": [
    "# For Loops"
   ]
  },
  {
   "cell_type": "markdown",
   "metadata": {},
   "source": [
    "### Introduction"
   ]
  },
  {
   "cell_type": "markdown",
   "metadata": {},
   "source": [
    "In the last set of lessons, we saw how we can dig into information.  For example, we saw how to select the population of a city, and the height or salary of an NBA player.\n",
    "\n",
    "But what if we want to select multiple salaries, or multiple populations.  What if we want to get a list of all of the populations, and then plot that list??  \n",
    "\n",
    "To do that, we need to repeat our operation of selecting data from a dictionary.  We need to be able to select data from one dictionary, and then the next dictionary, and then the next one.\n",
    "\n",
    "To repeat operations with code, we use a loop."
   ]
  },
  {
   "cell_type": "markdown",
   "metadata": {},
   "source": [
    "### Simple Printing"
   ]
  },
  {
   "cell_type": "markdown",
   "metadata": {},
   "source": [
    "Before moving on to using loops with our nested data structures, let's explore something more simple."
   ]
  },
  {
   "cell_type": "markdown",
   "metadata": {},
   "source": [
    "We'll start with a simple print statement.  A print statement just prints code."
   ]
  },
  {
   "cell_type": "code",
   "execution_count": 1,
   "metadata": {},
   "outputs": [
    {
     "name": "stdout",
     "output_type": "stream",
     "text": [
      "hello\n"
     ]
    }
   ],
   "source": [
    "print('hello')"
   ]
  },
  {
   "cell_type": "markdown",
   "metadata": {},
   "source": [
    "Now let's use a loop to print hello out three times."
   ]
  },
  {
   "cell_type": "code",
   "execution_count": 2,
   "metadata": {},
   "outputs": [
    {
     "name": "stdout",
     "output_type": "stream",
     "text": [
      "hello\n",
      "hello\n",
      "hello\n"
     ]
    }
   ],
   "source": [
    "for number in [1, 2, 3]:\n",
    "    print('hello')"
   ]
  },
  {
   "cell_type": "markdown",
   "metadata": {},
   "source": [
    "That is a for loop.  A `for loop` begins with the word `for` then has a variable name, called a block variable.  And finally it contains a list or another type of collection."
   ]
  },
  {
   "cell_type": "markdown",
   "metadata": {},
   "source": [
    "```python\n",
    "for element in list_of_elements:\n",
    "    do_something\n",
    "```"
   ]
  },
  {
   "cell_type": "markdown",
   "metadata": {},
   "source": [
    "We perform our operation once for every element in our list.  And this list that we pass through can contain whatever data we like."
   ]
  },
  {
   "cell_type": "code",
   "execution_count": 3,
   "metadata": {},
   "outputs": [
    {
     "name": "stdout",
     "output_type": "stream",
     "text": [
      "hello\n",
      "hello\n"
     ]
    }
   ],
   "source": [
    "for number in [1, 'two']:\n",
    "    print('hello')"
   ]
  },
  {
   "cell_type": "markdown",
   "metadata": {},
   "source": [
    "Notice that at the end of the first line we place a colon, `:`.  This indicates to Python that we are about to begin a block.  A block just means an unnamed procedure of code.  We indent our block with a tab (or two spaces) and then write the procedure that we want to occur for every element in the list.  Our block can be as many lines as we like."
   ]
  },
  {
   "cell_type": "code",
   "execution_count": 4,
   "metadata": {},
   "outputs": [
    {
     "name": "stdout",
     "output_type": "stream",
     "text": [
      "hello\n",
      "goodbye\n",
      "hello\n",
      "goodbye\n"
     ]
    }
   ],
   "source": [
    "for number in [1, 2]:\n",
    "    print('hello')\n",
    "    print('goodbye')"
   ]
  },
  {
   "cell_type": "markdown",
   "metadata": {},
   "source": [
    "Let's break down what happens in the code above.  Python starts with the first element in the list, `1`.  Then it performs the procedure specified in the block below, `print('hello')` and `print('goodbye')`.  When the block completes, Python moves to the number `2` and executes the block again.  Then because two is the last number in the list, the for loop completes.  If we want to write code after the for loop, we simply unindent."
   ]
  },
  {
   "cell_type": "markdown",
   "metadata": {},
   "source": [
    "> **Beware a gotcha:** \n",
    "\n",
    "> Notice that we are using a lot more print statements than in previous sections.  Let's see what happens if we don't."
   ]
  },
  {
   "cell_type": "code",
   "execution_count": 5,
   "metadata": {},
   "outputs": [],
   "source": [
    "for number in [1, 2]:\n",
    "    'hello'\n",
    "    'goodbye'"
   ]
  },
  {
   "cell_type": "markdown",
   "metadata": {},
   "source": [
    "> If you press `shift` and `enter` above, the code is run, but nothing displays below.  This is because Python only displays the return value of last procedure run.  And the last procedure run above is the termination of our loop, which has return value.  So to show the impact of our loop, we use the `print` function. "
   ]
  },
  {
   "cell_type": "markdown",
   "metadata": {},
   "source": [
    "Ok, now let's return to loops.  Try to predict what will print out in the code below.  How many hello's and goodbye's will print before ciao prints?"
   ]
  },
  {
   "cell_type": "code",
   "execution_count": null,
   "metadata": {},
   "outputs": [],
   "source": [
    "for number in [1, 3]:\n",
    "    print('hello')\n",
    "    print('goodbye')\n",
    "\n",
    "print('ciao')"
   ]
  },
  {
   "cell_type": "markdown",
   "metadata": {},
   "source": [
    "Each time we move through the block is called an **iteration**.  So we would say that the code directly above iterates through the block two times."
   ]
  },
  {
   "cell_type": "code",
   "execution_count": 23,
   "metadata": {},
   "outputs": [],
   "source": [
    "# write a for loop here that prints out 'hello', 'goodbye', and 'ciao' three times each."
   ]
  },
  {
   "cell_type": "markdown",
   "metadata": {},
   "source": [
    "### Doing more with block variables"
   ]
  },
  {
   "cell_type": "markdown",
   "metadata": {},
   "source": [
    "There's another nice thing about loops. With loops, the block variable (below `index`) takes a turn being each element of the list, in order.  So in the first iteration index is first element 0, then it's the second element 1, and finally 2. "
   ]
  },
  {
   "cell_type": "code",
   "execution_count": 6,
   "metadata": {},
   "outputs": [
    {
     "name": "stdout",
     "output_type": "stream",
     "text": [
      "0\n",
      "1\n",
      "2\n"
     ]
    }
   ],
   "source": [
    "for index in [0, 1, 2]:\n",
    "    print(index)"
   ]
  },
  {
   "cell_type": "markdown",
   "metadata": {},
   "source": [
    "The elements in our list could be anything.  Our block variable will still take turns being each element of the list."
   ]
  },
  {
   "cell_type": "code",
   "execution_count": 7,
   "metadata": {},
   "outputs": [
    {
     "name": "stdout",
     "output_type": "stream",
     "text": [
      "cats\n",
      "dogs\n",
      "turtles\n"
     ]
    }
   ],
   "source": [
    "for index in ['cats', 'dogs', 'turtles']:\n",
    "    print(index)"
   ]
  },
  {
   "cell_type": "markdown",
   "metadata": {},
   "source": [
    "So in the for loop above, we iterate through the block `print(index)` three times.  On the first iteration index equals `cats`, on the second iteration `index` equals `dogs`, and on the last iteration index equals `turtles`.  The code below shows the for loop followed by a deconstruction into each iteration."
   ]
  },
  {
   "cell_type": "code",
   "execution_count": null,
   "metadata": {},
   "outputs": [],
   "source": [
    "# entire loop\n",
    "for index in [0, 1, 2]:\n",
    "    print(index)\n",
    "    \n",
    "# deconstructed into iterations\n",
    "\n",
    "# 1st iteration\n",
    "index = 0\n",
    "print(index)\n",
    "\n",
    "# 2nd iteration\n",
    "index = 1\n",
    "print(index)\n",
    "\n",
    "# 3rd iteration\n",
    "index = 2\n",
    "print(index)"
   ]
  },
  {
   "cell_type": "markdown",
   "metadata": {},
   "source": [
    "### Moving onto restaurants"
   ]
  },
  {
   "cell_type": "markdown",
   "metadata": {},
   "source": [
    "Deconstructing what our loop does, or what we want it to do is a *very helpful* technique for programming.  Let's try this technique in writing a `'Welcome to '` followed by the restaurant name for each restaurant in a list.  Here is our list."
   ]
  },
  {
   "cell_type": "code",
   "execution_count": 8,
   "metadata": {},
   "outputs": [],
   "source": [
    "restaurants = ['chipotle', 'chopt', 'arbys']"
   ]
  },
  {
   "cell_type": "markdown",
   "metadata": {},
   "source": [
    "Here is our loop."
   ]
  },
  {
   "cell_type": "code",
   "execution_count": 13,
   "metadata": {},
   "outputs": [
    {
     "name": "stdout",
     "output_type": "stream",
     "text": [
      "chipotle\n",
      "chopt\n",
      "arbys\n"
     ]
    }
   ],
   "source": [
    "for restaurant in restaurants:\n",
    "    print(restaurant)"
   ]
  },
  {
   "cell_type": "markdown",
   "metadata": {},
   "source": [
    "Ok, now let's write out this procedure without using a loop."
   ]
  },
  {
   "cell_type": "code",
   "execution_count": 9,
   "metadata": {},
   "outputs": [
    {
     "name": "stdout",
     "output_type": "stream",
     "text": [
      "welcome to chipotle\n",
      "welcome to chopt\n",
      "welcome to arbys\n"
     ]
    }
   ],
   "source": [
    "print('welcome to ' + restaurants[0])\n",
    "print('welcome to ' + restaurants[1])\n",
    "print('welcome to ' + restaurants[2])"
   ]
  },
  {
   "cell_type": "markdown",
   "metadata": {},
   "source": [
    "This looks like our code deconstructing our loop above.  Our block is simply successive elements of our list."
   ]
  },
  {
   "cell_type": "code",
   "execution_count": 10,
   "metadata": {},
   "outputs": [
    {
     "name": "stdout",
     "output_type": "stream",
     "text": [
      "welcome to chipotle\n"
     ]
    }
   ],
   "source": [
    "# 1st iteration\n",
    "index = 0\n",
    "print('welcome to ' + restaurants[index])"
   ]
  },
  {
   "cell_type": "code",
   "execution_count": 11,
   "metadata": {},
   "outputs": [
    {
     "name": "stdout",
     "output_type": "stream",
     "text": [
      "welcome to chopt\n"
     ]
    }
   ],
   "source": [
    "# 2nd iteration\n",
    "index = 1\n",
    "print('welcome to ' + restaurants[index])"
   ]
  },
  {
   "cell_type": "code",
   "execution_count": 12,
   "metadata": {},
   "outputs": [
    {
     "name": "stdout",
     "output_type": "stream",
     "text": [
      "welcome to arbys\n"
     ]
    }
   ],
   "source": [
    "# 3rd iteration\n",
    "index = 2\n",
    "print('welcome to ' + restaurants[index])"
   ]
  },
  {
   "cell_type": "markdown",
   "metadata": {},
   "source": [
    "Before moving practice writing a loop that prints out the name of each restaurant.  "
   ]
  },
  {
   "cell_type": "code",
   "execution_count": null,
   "metadata": {},
   "outputs": [],
   "source": [
    "restaurants = ['chipotle', 'chopt', 'arbys']"
   ]
  },
  {
   "cell_type": "markdown",
   "metadata": {},
   "source": [
    "If you get stuck, just scroll up to the top of this section -- we did it earlier.  But it's a good idea to check your understanding before we go a little deeper with loops in the next lesson.  "
   ]
  },
  {
   "cell_type": "markdown",
   "metadata": {},
   "source": [
    "### Summary"
   ]
  },
  {
   "cell_type": "markdown",
   "metadata": {},
   "source": [
    "In this lesson, we saw how loops allow us to perform the same operation once for each element in a list.  We write a loop with the pattern of \n",
    "```python\n",
    "for block_variable in our_list:\n",
    "    do_something \n",
    "```\n",
    "\n",
    "Our loop moves through the elements in the list one by one, setting the block variable as each successive element.  Once the block variable is assigned to a new element, Python executes the block of code indented after the colon."
   ]
  }
 ],
 "metadata": {
  "kernelspec": {
   "display_name": "Python 3",
   "language": "python",
   "name": "python3"
  },
  "language_info": {
   "codemirror_mode": {
    "name": "ipython",
    "version": 3
   },
   "file_extension": ".py",
   "mimetype": "text/x-python",
   "name": "python",
   "nbconvert_exporter": "python",
   "pygments_lexer": "ipython3",
   "version": "3.7.4"
  }
 },
 "nbformat": 4,
 "nbformat_minor": 4
}
