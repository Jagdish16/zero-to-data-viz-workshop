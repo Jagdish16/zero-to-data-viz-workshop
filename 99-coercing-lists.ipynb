{
 "cells": [
  {
   "cell_type": "markdown",
   "metadata": {},
   "source": [
    "# Coercing Lists"
   ]
  },
  {
   "cell_type": "markdown",
   "metadata": {},
   "source": [
    "### Introduction"
   ]
  },
  {
   "cell_type": "code",
   "execution_count": 1,
   "metadata": {},
   "outputs": [],
   "source": [
    "friends = ['joey', 'chandler', 'ross', 'rachel']"
   ]
  },
  {
   "cell_type": "code",
   "execution_count": 3,
   "metadata": {},
   "outputs": [],
   "source": [
    "ages = ['32', '27', '30', '29']"
   ]
  },
  {
   "cell_type": "markdown",
   "metadata": {},
   "source": [
    "Above is a list of friends and their corresponding ages."
   ]
  },
  {
   "cell_type": "markdown",
   "metadata": {},
   "source": [
    "1. Create a list of friends paired with the corresponding ages by using the `zip` method."
   ]
  },
  {
   "cell_type": "code",
   "execution_count": 29,
   "metadata": {},
   "outputs": [],
   "source": [
    "friends_paired = None\n",
    "friends_paired\n",
    "# [('joey', '32'), ('chandler', '27'), ('ross', '30'), ('rachel', '29')]"
   ]
  },
  {
   "cell_type": "markdown",
   "metadata": {},
   "source": [
    "Remember that to combine a string with our data, we can use the `f` string."
   ]
  },
  {
   "cell_type": "code",
   "execution_count": 7,
   "metadata": {},
   "outputs": [
    {
     "data": {
      "text/plain": [
       "'hello san francisco'"
      ]
     },
     "execution_count": 7,
     "metadata": {},
     "output_type": "execute_result"
    }
   ],
   "source": [
    "location = 'san francisco'\n",
    "f'hello {location}'"
   ]
  },
  {
   "cell_type": "markdown",
   "metadata": {},
   "source": [
    "2.Use the `f` string to create a list of sentences saying that each person is cool."
   ]
  },
  {
   "cell_type": "code",
   "execution_count": 25,
   "metadata": {},
   "outputs": [],
   "source": [
    "cool_list = None\n",
    "cool_list\n",
    "# ['joey is cool', 'chandler is cool', 'ross is cool', 'rachel is cool']"
   ]
  },
  {
   "cell_type": "markdown",
   "metadata": {},
   "source": [
    "3. Now use the `f`string to say how old each person is.  For example, the first element in the list should be `joey is 32 years old.`"
   ]
  },
  {
   "cell_type": "code",
   "execution_count": 24,
   "metadata": {},
   "outputs": [],
   "source": [
    "uncapitalized_list = None\n",
    "uncapitalized_list\n",
    "# ['joey is 32 years old',\n",
    "#  'chandler is 27 years old',\n",
    "#  'ross is 30 years old',\n",
    "#  'rachel is 29 years old']"
   ]
  },
  {
   "cell_type": "markdown",
   "metadata": {},
   "source": [
    "> You can make your code pretty clean, if you google for `iterating through a list of tuples` in Python"
   ]
  },
  {
   "cell_type": "markdown",
   "metadata": {},
   "source": [
    "4. Now notice that each of these phrases have our names lowercased.  Write code to create a list where each of the names is capitalized."
   ]
  },
  {
   "cell_type": "code",
   "execution_count": 23,
   "metadata": {},
   "outputs": [],
   "source": [
    "friend_sentences = None\n",
    "friend_sentences\n",
    "# ['Joey is 32 years old',\n",
    "#  'Chandler is 27 years old',\n",
    "#  'Ross is 30 years old',\n",
    "#  'Rachel is 29 years old']"
   ]
  },
  {
   "cell_type": "markdown",
   "metadata": {},
   "source": [
    "Now use the `join` method to connect each of these elements into one string, with each element separated by the word `and`."
   ]
  },
  {
   "cell_type": "code",
   "execution_count": 22,
   "metadata": {},
   "outputs": [],
   "source": [
    "long_phrase = None\n",
    "long_phrase\n",
    "# 'Joey is 32 years old and Chandler is 27 years old and Ross is 30 years old and Rachel is 29 years old'"
   ]
  },
  {
   "cell_type": "markdown",
   "metadata": {},
   "source": [
    "Let's go back to our paired list."
   ]
  },
  {
   "cell_type": "code",
   "execution_count": 31,
   "metadata": {},
   "outputs": [],
   "source": [
    "paired_friends = [('joey', '32'), ('chandler', '27'), ('ross', '30'), ('rachel', '29')]"
   ]
  },
  {
   "cell_type": "markdown",
   "metadata": {},
   "source": [
    "Now reduce by using list comprehension, so that the list so that it only includes those over or equal to 30 years old."
   ]
  },
  {
   "cell_type": "code",
   "execution_count": 38,
   "metadata": {},
   "outputs": [],
   "source": [
    "plus_thirties = None\n",
    "plus_thirties\n",
    "# [('joey', '32'), ('ross', '30')]"
   ]
  }
 ],
 "metadata": {
  "kernelspec": {
   "display_name": "Python 3",
   "language": "python",
   "name": "python3"
  },
  "language_info": {
   "codemirror_mode": {
    "name": "ipython",
    "version": 3
   },
   "file_extension": ".py",
   "mimetype": "text/x-python",
   "name": "python",
   "nbconvert_exporter": "python",
   "pygments_lexer": "ipython3",
   "version": "3.7.4"
  }
 },
 "nbformat": 4,
 "nbformat_minor": 4
}
